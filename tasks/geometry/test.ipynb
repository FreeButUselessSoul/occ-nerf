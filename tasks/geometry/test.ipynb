{
 "cells": [
  {
   "cell_type": "code",
   "execution_count": 5,
   "metadata": {},
   "outputs": [
    {
     "name": "stdout",
     "output_type": "stream",
     "text": [
      "torch.__version__:\n"
     ]
    },
    {
     "data": {
      "text/plain": [
       "'1.8.1+cu111'"
      ]
     },
     "metadata": {},
     "output_type": "display_data"
    },
    {
     "name": "stdout",
     "output_type": "stream",
     "text": [
      "vals:\n"
     ]
    },
    {
     "data": {
      "text/plain": [
       "tensor([0.0000e+00, 1.1111e-07, 2.2222e-07, 3.3333e-07, 4.4444e-07, 5.5556e-07,\n",
       "        6.6667e-07, 7.7778e-07, 8.8889e-07, 1.0000e-06], requires_grad=True)"
      ]
     },
     "metadata": {},
     "output_type": "display_data"
    },
    {
     "name": "stdout",
     "output_type": "stream",
     "text": [
      "torch.norm(v, dim=-1) grad:\n"
     ]
    },
    {
     "data": {
      "text/plain": [
       "tensor([0., 1., 1., 1., 1., 1., 1., 1., 1., 1.])"
      ]
     },
     "metadata": {},
     "output_type": "display_data"
    },
    {
     "name": "stdout",
     "output_type": "stream",
     "text": [
      "(v**2).sum(dim=-1).sqrt() grad:\n"
     ]
    },
    {
     "data": {
      "text/plain": [
       "tensor([nan, 1., 1., 1., 1., 1., 1., 1., 1., 1.])"
      ]
     },
     "metadata": {},
     "output_type": "display_data"
    }
   ],
   "source": [
    "import torch\n",
    "\n",
    "v = torch.linspace(0, 1e-6, steps=10).requires_grad_()\n",
    "\n",
    "def bnorm(val):\n",
    "    n = val.detach().clone().requires_grad_(True)\n",
    "    c = n.reshape(-1, 1)\n",
    "    \n",
    "    nn = c.norm(dim=-1)\n",
    "    torch.autograd.backward(nn, torch.ones_like(nn))\n",
    "    return n.grad\n",
    "\n",
    "def snorm(val):\n",
    "    n = val.detach().clone().requires_grad_(True)\n",
    "    c = n.reshape(-1, 1)\n",
    "    \n",
    "    nn = (c ** 2).sum(dim=-1).sqrt()\n",
    "    \n",
    "    torch.autograd.backward(nn, torch.ones_like(nn))\n",
    "    return n.grad\n",
    "\n",
    "print(\"torch.__version__:\")\n",
    "display(torch.__version__)\n",
    "\n",
    "print(\"vals:\")\n",
    "display(v)\n",
    "\n",
    "print(\"torch.norm(v, dim=-1) grad:\")\n",
    "display(bnorm(v))\n",
    "\n",
    "print(\"(v**2).sum(dim=-1).sqrt() grad:\")\n",
    "display(snorm(v))"
   ]
  },
  {
   "cell_type": "code",
   "execution_count": null,
   "metadata": {},
   "outputs": [],
   "source": []
  }
 ],
 "metadata": {
  "kernelspec": {
   "display_name": "Python 3.8.12 64-bit",
   "language": "python",
   "name": "python3"
  },
  "language_info": {
   "codemirror_mode": {
    "name": "ipython",
    "version": 3
   },
   "file_extension": ".py",
   "mimetype": "text/x-python",
   "name": "python",
   "nbconvert_exporter": "python",
   "pygments_lexer": "ipython3",
   "version": "3.8.12"
  },
  "orig_nbformat": 4,
  "vscode": {
   "interpreter": {
    "hash": "422dff75d133947588b6445b937805c969e987370ac37f50927251b1b6aa5dbe"
   }
  }
 },
 "nbformat": 4,
 "nbformat_minor": 2
}
